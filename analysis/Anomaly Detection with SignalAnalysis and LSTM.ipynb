{
 "cells": [
  {
   "cell_type": "markdown",
   "metadata": {
    "toc": true
   },
   "source": [
    "<h1>Table of Contents<span class=\"tocSkip\"></span></h1>\n",
    "<div class=\"toc\" style=\"margin-top: 1em;\"><ul class=\"toc-item\"><li><span><a href=\"#Imports\" data-toc-modified-id=\"Imports-1\"><span class=\"toc-item-num\">1&nbsp;&nbsp;</span>Imports</a></span></li><li><span><a href=\"#Data-Prep\" data-toc-modified-id=\"Data-Prep-2\"><span class=\"toc-item-num\">2&nbsp;&nbsp;</span>Data Prep</a></span><ul class=\"toc-item\"><li><span><a href=\"#Workflow\" data-toc-modified-id=\"Workflow-2.1\"><span class=\"toc-item-num\">2.1&nbsp;&nbsp;</span>Workflow</a></span></li><li><span><a href=\"#Build-Sqlite-Data-Base\" data-toc-modified-id=\"Build-Sqlite-Data-Base-2.2\"><span class=\"toc-item-num\">2.2&nbsp;&nbsp;</span>Build Sqlite Data Base</a></span></li><li><span><a href=\"#Clean-Data\" data-toc-modified-id=\"Clean-Data-2.3\"><span class=\"toc-item-num\">2.3&nbsp;&nbsp;</span>Clean Data</a></span></li><li><span><a href=\"#Create-SVID-Columns\" data-toc-modified-id=\"Create-SVID-Columns-2.4\"><span class=\"toc-item-num\">2.4&nbsp;&nbsp;</span>Create SVID Columns</a></span></li><li><span><a href=\"#Normalize-Signal-Data\" data-toc-modified-id=\"Normalize-Signal-Data-2.5\"><span class=\"toc-item-num\">2.5&nbsp;&nbsp;</span>Normalize Signal Data</a></span></li><li><span><a href=\"#Calculate-Cross-Correlation-Matrix-(CCM)\" data-toc-modified-id=\"Calculate-Cross-Correlation-Matrix-(CCM)-2.6\"><span class=\"toc-item-num\">2.6&nbsp;&nbsp;</span>Calculate Cross Correlation Matrix (CCM)</a></span></li><li><span><a href=\"#Shape-Data-for-LSTM-Input\" data-toc-modified-id=\"Shape-Data-for-LSTM-Input-2.7\"><span class=\"toc-item-num\">2.7&nbsp;&nbsp;</span>Shape Data for LSTM Input</a></span></li><li><span><a href=\"#Save-Pickled-Files\" data-toc-modified-id=\"Save-Pickled-Files-2.8\"><span class=\"toc-item-num\">2.8&nbsp;&nbsp;</span>Save Pickled Files</a></span></li><li><span><a href=\"#Load-Pickled-Files\" data-toc-modified-id=\"Load-Pickled-Files-2.9\"><span class=\"toc-item-num\">2.9&nbsp;&nbsp;</span>Load Pickled Files</a></span></li></ul></li><li><span><a href=\"#LSTM\" data-toc-modified-id=\"LSTM-3\"><span class=\"toc-item-num\">3&nbsp;&nbsp;</span>LSTM</a></span><ul class=\"toc-item\"><li><span><a href=\"#Build-the-LSTM-Model\" data-toc-modified-id=\"Build-the-LSTM-Model-3.1\"><span class=\"toc-item-num\">3.1&nbsp;&nbsp;</span>Build the LSTM Model</a></span></li><li><span><a href=\"#Make-Predictions-and-Plot-ROC-AUC-Metric\" data-toc-modified-id=\"Make-Predictions-and-Plot-ROC-AUC-Metric-3.2\"><span class=\"toc-item-num\">3.2&nbsp;&nbsp;</span>Make Predictions and Plot ROC-AUC Metric</a></span></li></ul></li></ul></div>"
   ]
  },
  {
   "cell_type": "markdown",
   "metadata": {},
   "source": [
    "# Imports"
   ]
  },
  {
   "cell_type": "code",
   "execution_count": 5,
   "metadata": {},
   "outputs": [
    {
     "ename": "ModuleNotFoundError",
     "evalue": "No module named 'keras'",
     "output_type": "error",
     "traceback": [
      "\u001b[1;31m---------------------------------------------------------------------------\u001b[0m",
      "\u001b[1;31mModuleNotFoundError\u001b[0m                       Traceback (most recent call last)",
      "\u001b[1;32m<ipython-input-5-73215b542ead>\u001b[0m in \u001b[0;36m<module>\u001b[1;34m()\u001b[0m\n\u001b[0;32m     42\u001b[0m \u001b[1;33m\u001b[0m\u001b[0m\n\u001b[0;32m     43\u001b[0m \u001b[1;31m# keras\u001b[0m\u001b[1;33m\u001b[0m\u001b[1;33m\u001b[0m\u001b[0m\n\u001b[1;32m---> 44\u001b[1;33m \u001b[1;32mfrom\u001b[0m \u001b[0mkeras\u001b[0m\u001b[1;33m.\u001b[0m\u001b[0mpreprocessing\u001b[0m\u001b[1;33m.\u001b[0m\u001b[0msequence\u001b[0m \u001b[1;32mimport\u001b[0m \u001b[0mpad_sequences\u001b[0m\u001b[1;33m\u001b[0m\u001b[0m\n\u001b[0m\u001b[0;32m     45\u001b[0m \u001b[1;32mfrom\u001b[0m \u001b[0mkeras\u001b[0m\u001b[1;33m.\u001b[0m\u001b[0mcallbacks\u001b[0m \u001b[1;32mimport\u001b[0m \u001b[0mEarlyStopping\u001b[0m\u001b[1;33m\u001b[0m\u001b[0m\n\u001b[0;32m     46\u001b[0m \u001b[1;32mfrom\u001b[0m \u001b[0mkeras\u001b[0m\u001b[1;33m.\u001b[0m\u001b[0mmodels\u001b[0m \u001b[1;32mimport\u001b[0m \u001b[0mSequential\u001b[0m\u001b[1;33m\u001b[0m\u001b[0m\n",
      "\u001b[1;31mModuleNotFoundError\u001b[0m: No module named 'keras'"
     ]
    }
   ],
   "source": [
    "import numpy as np \n",
    "import pandas as pd\n",
    "import pickle as pkl\n",
    "import collections\n",
    "import math\n",
    "\n",
    "# pandas\n",
    "from pandas import read_csv \n",
    "from pandas import datetime \n",
    "from pandas.plotting import autocorrelation_plot\n",
    "\n",
    "# scipy\n",
    "from scipy import sparse\n",
    "from scipy import signal\n",
    "from scipy.signal import correlate\n",
    "from scipy.signal import correlate2d\n",
    "from scipy.sparse import coo_matrix, vstack\n",
    "\n",
    "# statsmodels\n",
    "from statsmodels.tsa.arima_model import ARIMA \n",
    "\n",
    "# sci-kit learn\n",
    "from sklearn.metrics import auc\n",
    "from sklearn.metrics import roc_curve\n",
    "from sklearn.metrics import mean_squared_error\n",
    "from sklearn.datasets import make_classification\n",
    "from sklearn.model_selection import train_test_split\n",
    "\n",
    "# matplotlib\n",
    "from matplotlib import pyplot as plt\n",
    "\n",
    "# sqlite\n",
    "# from sqlalchemy import create_engine\n",
    "# from flask.ext.sqlalchemy import SQLAlchemy\n",
    "# from flask_sqlalchemy import SQLAlchemy\n",
    "# from sqlalchemy import create_engine\n",
    "\n",
    "# sci-kit learn\n",
    "from sklearn.decomposition import PCA\n",
    "from sklearn.metrics import mean_squared_error\n",
    "from sklearn.preprocessing import MinMaxScaler\n",
    "\n",
    "# keras\n",
    "from keras.preprocessing.sequence import pad_sequences\n",
    "from keras.callbacks import EarlyStopping\n",
    "from keras.models import Sequential\n",
    "from keras.models import Model\n",
    "from keras.layers import Dense\n",
    "from keras.layers import LSTM"
   ]
  },
  {
   "cell_type": "markdown",
   "metadata": {},
   "source": [
    "# Data Prep"
   ]
  },
  {
   "cell_type": "markdown",
   "metadata": {},
   "source": [
    "## Workflow \n",
    "\n",
    "* Table join on jupyterhub to merge AGC, CN0 and local timestamp info\n",
    "* Read CSV file and load into sqlite db in chunks to avoid using enormous CSV files and make data more accessible\n",
    "* Load dataframe, change time stamps to 64 bit integers\n",
    "* Sort data by local time \n",
    "* Reindex dataframe\n",
    "* Remove NaN Values from Attack Column\n",
    "* Limit Data to Days with Jamming\n",
    "* Create SVID Columns\n",
    "* Add Cross Correlation Column to Data\n",
    "* Use PCA to Do Feature Selection"
   ]
  },
  {
   "cell_type": "code",
   "execution_count": 2,
   "metadata": {},
   "outputs": [
    {
     "data": {
      "text/plain": [
       "'1.2.0'"
      ]
     },
     "execution_count": 2,
     "metadata": {},
     "output_type": "execute_result"
    }
   ],
   "source": [
    "scipy.__version__"
   ]
  },
  {
   "cell_type": "markdown",
   "metadata": {},
   "source": [
    "## Build Sqlite Data Base"
   ]
  },
  {
   "cell_type": "code",
   "execution_count": null,
   "metadata": {
    "collapsed": true
   },
   "outputs": [],
   "source": [
    "filepath = 'CSV Files/combined.csv'"
   ]
  },
  {
   "cell_type": "code",
   "execution_count": null,
   "metadata": {
    "collapsed": true
   },
   "outputs": [],
   "source": [
    "# csv_database = create_engine('sqlite:///csv_database.db')\n",
    "csv_database = create_engine('sqlite:///combined.db')"
   ]
  },
  {
   "cell_type": "code",
   "execution_count": null,
   "metadata": {
    "collapsed": true
   },
   "outputs": [],
   "source": [
    "chunksize = 100000\n",
    "i, j = 0, 1\n",
    "for df in pd.read_csv(filepath, chunksize=chunksize, iterator=True):\n",
    "    df = df.rename(columns={c: c.replace(' ', '_') for c in df.columns}) \n",
    "    # shift up all index values by j\n",
    "    df.index += j\n",
    "    i += 1\n",
    "    df.to_sql('table', csv_database, if_exists='append')\n",
    "    # take highest index value and add one\n",
    "    # (don't know the index of the highest index, so use -1)\n",
    "    j = df.index[-1] + 1"
   ]
  },
  {
   "cell_type": "markdown",
   "metadata": {},
   "source": [
    "NOTE: Sqlite apparently requires you to put the table name between quotes. See this [Stackoverflow article](https://stackoverflow.com/questions/25387537/inserting-a-table-name-into-a-query-gives-sqlite3-operationalerror-near-sy)."
   ]
  },
  {
   "cell_type": "code",
   "execution_count": null,
   "metadata": {
    "collapsed": true
   },
   "outputs": [],
   "source": [
    "# id, svid, constellation, cn0, agc, has_agc, sat_time_nanos\n",
    "# fields = \"id, svid, constellation, cn0, agc, has_agc, sat_time_nanos\"\n",
    "# fields = \"constellation, cn0, agc, has_agc, sat_time_nanos\"\n",
    "# fields = \"cn0, agc\"\n",
    "# sql_string = 'SELECT ' + fields + ' FROM table'\n",
    "# sql_string = 'SELECT * FROM \"table\" LIMIT 5'\n",
    "flds = \"svid, constellation, cn0, agc, local_time, sat_time_nanos, attack\"\n",
    "sql_string = 'SELECT ' + flds + ' FROM \"table\"'"
   ]
  },
  {
   "cell_type": "code",
   "execution_count": null,
   "metadata": {
    "collapsed": true
   },
   "outputs": [],
   "source": [
    "df_combined = pd.read_sql_query(sql_string, csv_database)"
   ]
  },
  {
   "cell_type": "code",
   "execution_count": null,
   "metadata": {
    "collapsed": true
   },
   "outputs": [],
   "source": [
    "df_combined[df_combined[\"Attack\"] == 1].count()"
   ]
  },
  {
   "cell_type": "markdown",
   "metadata": {},
   "source": [
    "## Clean Data"
   ]
  },
  {
   "cell_type": "markdown",
   "metadata": {},
   "source": [
    "Convert Time Stamps and SVID from Float to 64bit Integer"
   ]
  },
  {
   "cell_type": "code",
   "execution_count": null,
   "metadata": {
    "collapsed": true
   },
   "outputs": [],
   "source": [
    "sat_time_nanos = df_combined[\"sat_time_nanos\"]\n",
    "localtime = df_combined[\"local_time\"]\n",
    "svids = df_combined[\"svid\"]"
   ]
  },
  {
   "cell_type": "code",
   "execution_count": null,
   "metadata": {
    "collapsed": true
   },
   "outputs": [],
   "source": [
    "sat_time_nanos = sat_time_nanos.astype('int64')\n",
    "localtime = localtime.astype('int64') \n",
    "svids = svids.astype('int64')"
   ]
  },
  {
   "cell_type": "code",
   "execution_count": null,
   "metadata": {
    "collapsed": true
   },
   "outputs": [],
   "source": [
    "df_combined[\"sat_time_nanos\"] = sat_time_nanos\n",
    "df_combined[\"local_time\"] = localtime\n",
    "df_combined[\"svid\"] = svids"
   ]
  },
  {
   "cell_type": "markdown",
   "metadata": {},
   "source": [
    "Sort Data by Local Time Stamp and Reindex"
   ]
  },
  {
   "cell_type": "code",
   "execution_count": null,
   "metadata": {
    "collapsed": true
   },
   "outputs": [],
   "source": [
    "# colheader = 'sat_time_nanos'\n",
    "colheader = 'local_time'\n",
    "df_combined_sorted = df_combined.sort_values(colheader).copy()"
   ]
  },
  {
   "cell_type": "code",
   "execution_count": null,
   "metadata": {
    "collapsed": true
   },
   "outputs": [],
   "source": [
    "df_combined_sorted.index = range(len(df_combined_sorted))"
   ]
  },
  {
   "cell_type": "markdown",
   "metadata": {},
   "source": [
    "Remove NaN Values from Attack Column"
   ]
  },
  {
   "cell_type": "code",
   "execution_count": null,
   "metadata": {
    "collapsed": true
   },
   "outputs": [],
   "source": [
    "values = {\"Attack\": False}\n",
    "df_combined_sorted = df_combined_sorted.fillna(value = values)"
   ]
  },
  {
   "cell_type": "code",
   "execution_count": null,
   "metadata": {
    "collapsed": true
   },
   "outputs": [],
   "source": [
    "df_combined_sorted[\"Attack\"].value_counts()"
   ]
  },
  {
   "cell_type": "markdown",
   "metadata": {},
   "source": [
    "Limit Days to Days with Jamming.\n",
    "\n",
    "Reasoning:\n",
    "* Assuming this will probably not cause data imbalance, based on Tracey's statement that pervasive jamming might represent actual conditions and \n",
    "* We don't know how to label much of the data we have. We cannot assume the absence of a True Attack label means Attack = False necessarily. \n",
    "\n",
    "Hao's calculated range of local time stamps on jamming days:\n",
    "* local time for 10/3/2018 00:00 is 1538264040000 \n",
    "* local time for 10/6/2018 00:00 is 1538523240000 "
   ]
  },
  {
   "cell_type": "code",
   "execution_count": null,
   "metadata": {
    "collapsed": true
   },
   "outputs": [],
   "source": [
    "(df_combined_sorted[\"local_time\"].min(), \n",
    " df_combined_sorted[\"local_time\"].max())"
   ]
  },
  {
   "cell_type": "code",
   "execution_count": null,
   "metadata": {
    "collapsed": true
   },
   "outputs": [],
   "source": [
    "df_jamming = df_combined_sorted[\n",
    "    df_combined_sorted[\"local_time\"] >= 1538264040000 # 1538264040000 \n",
    "]"
   ]
  },
  {
   "cell_type": "code",
   "execution_count": null,
   "metadata": {
    "collapsed": true
   },
   "outputs": [],
   "source": [
    "df_jamming = df_combined_sorted[\n",
    "    df_combined_sorted[\"local_time\"] >= 0 # 1538264040000 \n",
    "]\n",
    "df_jamming[\"Attack\"].value_counts()"
   ]
  },
  {
   "cell_type": "code",
   "execution_count": null,
   "metadata": {
    "collapsed": true
   },
   "outputs": [],
   "source": [
    "df_jamming = df_jamming[\n",
    "     (df_jamming[\"local_time\"] <= 1538523240000) # 1538523240000\n",
    "]"
   ]
  },
  {
   "cell_type": "markdown",
   "metadata": {},
   "source": [
    "## Create SVID Columns"
   ]
  },
  {
   "cell_type": "code",
   "execution_count": 10,
   "metadata": {
    "collapsed": true
   },
   "outputs": [],
   "source": [
    "def get_headers(df): \n",
    "    \n",
    "    svids = df[\"svid\"].unique()\n",
    "    svids = list(svids)\n",
    "\n",
    "    svidhdrs = []\n",
    "\n",
    "    for svid in svids:       \n",
    "        agc_nm = \"agc_\" + \"{:003d}\".format(svid)  \n",
    "        cn0_nm = \"cn0_\" + \"{:003d}\".format(svid) \n",
    "        svidhdrs.append(agc_nm)\n",
    "        svidhdrs.append(cn0_nm)\n",
    "\n",
    "    svidhdrs.sort()\n",
    "\n",
    "    dfcols = list(df.columns)\n",
    "    dfcols.remove('svid')\n",
    "    dfcols.remove('cn0')\n",
    "    dfcols.remove('agc')    \n",
    "    dfcols.remove('constellation')\n",
    "    dfcols.remove('sat_time_nanos')    \n",
    "    \n",
    "    colhdrs = dfcols + svidhdrs\n",
    "    \n",
    "    return svids, colhdrs"
   ]
  },
  {
   "cell_type": "code",
   "execution_count": 11,
   "metadata": {
    "collapsed": true
   },
   "outputs": [],
   "source": [
    "def create_svid_cols(df):\n",
    "\n",
    "    svids, colhdrs = get_headers(df) \n",
    "    d = {k:0 for k in colhdrs}\n",
    "    df_new = pd.DataFrame(columns = colhdrs)\n",
    "    df_new.loc[0] = d\n",
    "    \n",
    "    lt_previous = -1      \n",
    "    \n",
    "    for rowidx, row in df.iterrows():\n",
    "       \n",
    "        svid = row[\"svid\"]         \n",
    "        agc_nm = \"agc_\" + \"{:003d}\".format(svid)  \n",
    "        cn0_nm = \"cn0_\" + \"{:003d}\".format(svid)        \n",
    "\n",
    "        lt = row[\"local_time\"]\n",
    "                    \n",
    "        if lt != lt_previous and lt_previous != -1:\n",
    "            # print(\"new time stamp\")\n",
    "                                        \n",
    "            # open up a new row in dataframe\n",
    "            nrow = len(df_new)\n",
    "            \n",
    "            # initialize new row to have same values as last row\n",
    "            lastrow = df_new.loc[nrow - 1].to_dict()\n",
    "            df_new.loc[nrow] = lastrow\n",
    "                           \n",
    "        else:\n",
    "            # load data into current (already existing) last row\n",
    "            nrow = len(df_new) - 1\n",
    "            \n",
    "        df_new.loc[nrow][agc_nm] = row[\"agc\"]\n",
    "        df_new.loc[nrow][cn0_nm] = row[\"cn0\"]\n",
    "        df_new.loc[nrow][\"Attack\"] = row[\"Attack\"]\n",
    "        df_new.loc[nrow][\"local_time\"] = lt  \n",
    "        \n",
    "        lt_previous = lt\n",
    "                    \n",
    "        # print(lt) \n",
    "    \n",
    "    df_allcolumns = df_new.copy()\n",
    "    df_signalsonly = df_new.drop(\n",
    "                        [\"local_time\", \"Attack\"], axis = 1)    \n",
    "    signalsonly = df_signalsonly.values\n",
    "    \n",
    "    return df_allcolumns, signalsonly"
   ]
  },
  {
   "cell_type": "code",
   "execution_count": 9,
   "metadata": {
    "collapsed": true
   },
   "outputs": [],
   "source": [
    "df_signals_in_cols, arr_signalsonly = create_svid_cols(df_jamming)"
   ]
  },
  {
   "cell_type": "markdown",
   "metadata": {},
   "source": [
    "## Normalize Signal Data"
   ]
  },
  {
   "cell_type": "markdown",
   "metadata": {},
   "source": [
    "Take a peak at max signal values."
   ]
  },
  {
   "cell_type": "code",
   "execution_count": 15,
   "metadata": {},
   "outputs": [],
   "source": [
    "data_cols = list(df_signals_in_cols.columns)"
   ]
  },
  {
   "cell_type": "code",
   "execution_count": 16,
   "metadata": {},
   "outputs": [
    {
     "data": {
      "text/plain": [
       "local_time    1.538464e+12\n",
       "Attack        1.000000e+00\n",
       "agc_001       1.711000e+01\n",
       "agc_002       3.270000e+00\n",
       "agc_003       3.160000e+01\n",
       "agc_004       3.368000e+01\n",
       "agc_005       3.368000e+01\n",
       "agc_006       3.368000e+01\n",
       "agc_007       3.368000e+01\n",
       "agc_008       2.203000e+01\n",
       "dtype: float64"
      ]
     },
     "execution_count": 16,
     "metadata": {},
     "output_type": "execute_result"
    }
   ],
   "source": [
    "df_signals_in_cols[data_cols].max()[:10]"
   ]
  },
  {
   "cell_type": "code",
   "execution_count": 18,
   "metadata": {},
   "outputs": [],
   "source": [
    "def normalize_signals(df):\n",
    "    \n",
    "    # initialize scaler object\n",
    "    scaler = MinMaxScaler(feature_range=(0, 1))\n",
    "    \n",
    "    # extract column names and remove \n",
    "    # those that are irrelevant \n",
    "    data_cols = list(df_signals_in_cols.columns)\n",
    "    data_cols.remove(\"local_time\")\n",
    "    data_cols.remove(\"Attack\")\n",
    "    \n",
    "    # extract signal values\n",
    "    vals = df[data_cols].values\n",
    "    vals = vals.astype('float32')\n",
    "    vals_norm = scaler.fit_transform(vals)\n",
    "    \n",
    "    df_norm = df.copy()\n",
    "    for idx, colname in enumerate(data_cols):\n",
    "        df_norm[colname] = vals_norm[:, idx]\n",
    "\n",
    "    return df_norm"
   ]
  },
  {
   "cell_type": "code",
   "execution_count": 19,
   "metadata": {},
   "outputs": [],
   "source": [
    "df_signals_normalized = normalize_signals(df_signals_in_cols)"
   ]
  },
  {
   "cell_type": "code",
   "execution_count": 20,
   "metadata": {},
   "outputs": [
    {
     "data": {
      "text/html": [
       "<div>\n",
       "<style scoped>\n",
       "    .dataframe tbody tr th:only-of-type {\n",
       "        vertical-align: middle;\n",
       "    }\n",
       "\n",
       "    .dataframe tbody tr th {\n",
       "        vertical-align: top;\n",
       "    }\n",
       "\n",
       "    .dataframe thead th {\n",
       "        text-align: right;\n",
       "    }\n",
       "</style>\n",
       "<table border=\"1\" class=\"dataframe\">\n",
       "  <thead>\n",
       "    <tr style=\"text-align: right;\">\n",
       "      <th></th>\n",
       "      <th>local_time</th>\n",
       "      <th>Attack</th>\n",
       "      <th>agc_001</th>\n",
       "      <th>agc_002</th>\n",
       "      <th>agc_003</th>\n",
       "      <th>agc_004</th>\n",
       "      <th>agc_005</th>\n",
       "      <th>agc_006</th>\n",
       "      <th>agc_007</th>\n",
       "      <th>agc_008</th>\n",
       "      <th>...</th>\n",
       "      <th>cn0_095</th>\n",
       "      <th>cn0_096</th>\n",
       "      <th>cn0_097</th>\n",
       "      <th>cn0_100</th>\n",
       "      <th>cn0_101</th>\n",
       "      <th>cn0_102</th>\n",
       "      <th>cn0_103</th>\n",
       "      <th>cn0_104</th>\n",
       "      <th>cn0_105</th>\n",
       "      <th>cn0_106</th>\n",
       "    </tr>\n",
       "  </thead>\n",
       "  <tbody>\n",
       "    <tr>\n",
       "      <th>0</th>\n",
       "      <td>1538417120670</td>\n",
       "      <td>1</td>\n",
       "      <td>0.573423</td>\n",
       "      <td>0.905058</td>\n",
       "      <td>0.495691</td>\n",
       "      <td>0.400285</td>\n",
       "      <td>0.444634</td>\n",
       "      <td>0.405787</td>\n",
       "      <td>0.498146</td>\n",
       "      <td>0.580346</td>\n",
       "      <td>...</td>\n",
       "      <td>0.0</td>\n",
       "      <td>0.0</td>\n",
       "      <td>0.0</td>\n",
       "      <td>0.0</td>\n",
       "      <td>0.0</td>\n",
       "      <td>0.0</td>\n",
       "      <td>0.0</td>\n",
       "      <td>0.0</td>\n",
       "      <td>0.0</td>\n",
       "      <td>0.0</td>\n",
       "    </tr>\n",
       "    <tr>\n",
       "      <th>1</th>\n",
       "      <td>1538417123184</td>\n",
       "      <td>1</td>\n",
       "      <td>0.573423</td>\n",
       "      <td>0.910381</td>\n",
       "      <td>0.495691</td>\n",
       "      <td>0.400285</td>\n",
       "      <td>0.446681</td>\n",
       "      <td>0.405787</td>\n",
       "      <td>0.498146</td>\n",
       "      <td>0.580346</td>\n",
       "      <td>...</td>\n",
       "      <td>0.0</td>\n",
       "      <td>0.0</td>\n",
       "      <td>0.0</td>\n",
       "      <td>0.0</td>\n",
       "      <td>0.0</td>\n",
       "      <td>0.0</td>\n",
       "      <td>0.0</td>\n",
       "      <td>0.0</td>\n",
       "      <td>0.0</td>\n",
       "      <td>0.0</td>\n",
       "    </tr>\n",
       "  </tbody>\n",
       "</table>\n",
       "<p>2 rows × 90 columns</p>\n",
       "</div>"
      ],
      "text/plain": [
       "      local_time Attack   agc_001   agc_002   agc_003   agc_004   agc_005  \\\n",
       "0  1538417120670      1  0.573423  0.905058  0.495691  0.400285  0.444634   \n",
       "1  1538417123184      1  0.573423  0.910381  0.495691  0.400285  0.446681   \n",
       "\n",
       "    agc_006   agc_007   agc_008   ...     cn0_095  cn0_096  cn0_097  cn0_100  \\\n",
       "0  0.405787  0.498146  0.580346   ...         0.0      0.0      0.0      0.0   \n",
       "1  0.405787  0.498146  0.580346   ...         0.0      0.0      0.0      0.0   \n",
       "\n",
       "   cn0_101  cn0_102  cn0_103  cn0_104  cn0_105  cn0_106  \n",
       "0      0.0      0.0      0.0      0.0      0.0      0.0  \n",
       "1      0.0      0.0      0.0      0.0      0.0      0.0  \n",
       "\n",
       "[2 rows x 90 columns]"
      ]
     },
     "execution_count": 20,
     "metadata": {},
     "output_type": "execute_result"
    }
   ],
   "source": [
    "df_signals_normalized[:2]"
   ]
  },
  {
   "cell_type": "markdown",
   "metadata": {},
   "source": [
    "## Calculate Cross Correlation Matrix (CCM)\n",
    "\n",
    "Calculate the cross correlation matrix on a sliding time window and append the contents of the ccm to the signal data."
   ]
  },
  {
   "cell_type": "code",
   "execution_count": 23,
   "metadata": {},
   "outputs": [],
   "source": [
    "def mycorrelate(ar_signals, normalized = False):\n",
    "    \n",
    "    # initialize cross correlation matrix with zeros\n",
    "    nrows = ar_signals.shape[0]    \n",
    "    ccm = np.zeros(shape=(nrows, nrows), dtype=list)\n",
    "    \n",
    "    for i, outer_row in enumerate(ar_signals):\n",
    "        for j, inner_row in enumerate(ar_signals): \n",
    "\n",
    "            if(not normalized):\n",
    "                x = np.correlate(inner_row, outer_row) \n",
    "            else: \n",
    "                len_inner = int(len(inner_row))\n",
    "                mean_inner = np.mean(inner_row)\n",
    "                std_inner = np.std(inner_row)\n",
    "                a = (inner_row - mean_inner) / (std_inner * len_inner) \n",
    "                b = (outer_row - np.mean(outer_row)) / (\n",
    "                     np.std(outer_row)) \n",
    "                x = np.correlate(a, b) \n",
    "                    \n",
    "            ccm[i][j] = x[0] \n",
    "            \n",
    "    return ccm"
   ]
  },
  {
   "cell_type": "code",
   "execution_count": 55,
   "metadata": {
    "collapsed": true
   },
   "outputs": [],
   "source": [
    "####################################################\n",
    "# concat_signals_and_ccm: \n",
    "# Description: Takes array of signals \n",
    "# and tacks on ccm (cross correlation matrix) values\n",
    "####################################################\n",
    "\n",
    "def concat_signals_and_ccm(a, win = 3):\n",
    "    \n",
    "    result = []\n",
    "    \n",
    "    ln = len(a)\n",
    "    for idx, r in enumerate(a):\n",
    "        \n",
    "        if idx + win > ln:\n",
    "            break\n",
    "\n",
    "        view = a[idx : idx + win]\n",
    "        \n",
    "        ccm = mycorrelate(view)\n",
    "        flatmatrix = ccm.ravel().tolist()\n",
    "        concatenated_line = list(a[idx + win - 1]) + flatmatrix    \n",
    "        result.append(concatenated_line)\n",
    "\n",
    "    return result    "
   ]
  },
  {
   "cell_type": "code",
   "execution_count": 24,
   "metadata": {},
   "outputs": [],
   "source": [
    "def concat_signals_and_ccm_in_df(df, win = 3):\n",
    "    \n",
    "    result = []    \n",
    "    width = df.shape[1]\n",
    "    length = df.shape[0]\n",
    "    # ln = len(df)\n",
    "    \n",
    "    value_cols = list(df.columns)\n",
    "    value_cols.remove(\"local_time\")\n",
    "    value_cols.remove(\"Attack\")\n",
    "    \n",
    "    df_values = df[value_cols]\n",
    "    \n",
    "    # Cross correlation matrix (ccm) will be a \n",
    "    # square matrix of dimensions (win X win)\n",
    "    \n",
    "    # Length of augmented row will be:\n",
    "    #    length of current row + flattened ccm (win X win)    \n",
    "    # First win-1 rows will be extended by zeros\n",
    "    for i in range(win):\n",
    "        row = list(df_values.iloc[i].values)\n",
    "        zeros = np.zeros(win * win).tolist()\n",
    "        result.append(row + zeros)\n",
    "    \n",
    "    for idx, _ in enumerate(df_values.iterrows()):\n",
    "        \n",
    "        if idx + win > length:\n",
    "            break\n",
    "\n",
    "        view = df_values.iloc[idx : idx + win].values\n",
    "        \n",
    "        ccm = mycorrelate(view, normalized = True)\n",
    "        \n",
    "        # print(\"idx=%d, win=%d\" % (idx, win))\n",
    "        flatmatrix = ccm.ravel().tolist()\n",
    "        \n",
    "        # Careful: indices change within the view\n",
    "        # Last line of view will always have index of win - 1\n",
    "        concatenated_line = list(view[win - 1, :]) + flatmatrix    \n",
    "        result.append(concatenated_line)\n",
    "\n",
    "    df_augmented = df.copy()\n",
    "    df_augmented[\"sigccm\"] = pd.Series(result)\n",
    "    \n",
    "    # Column \"sigccm\" now contains list elements.\n",
    "    # Encapsulate each list element with an extra set\n",
    "    # of list brackets to set the stage for creating\n",
    "    # a list of lists that represents the time steps\n",
    "    # of an LSTM\n",
    "    \n",
    "    df_augmented[\"sigccm\"] = df_augmented.sigccm.apply(\n",
    "                                    lambda x: [list(x)])\n",
    "    \n",
    "    return df_augmented  "
   ]
  },
  {
   "cell_type": "code",
   "execution_count": 150,
   "metadata": {
    "collapsed": true
   },
   "outputs": [],
   "source": [
    "df_signals_ccm = concat_signals_and_ccm_in_df(df_signals_in_cols)"
   ]
  },
  {
   "cell_type": "code",
   "execution_count": null,
   "metadata": {},
   "outputs": [],
   "source": [
    "df_signals_ccm_normalized = concat_signals_and_ccm_in_df(\n",
    "                               df_signals_normalized, win = 100)"
   ]
  },
  {
   "cell_type": "code",
   "execution_count": null,
   "metadata": {},
   "outputs": [],
   "source": [
    "df_signals_ccm_normalized[:2]"
   ]
  },
  {
   "cell_type": "markdown",
   "metadata": {},
   "source": [
    "## Shape Data for LSTM Input"
   ]
  },
  {
   "cell_type": "code",
   "execution_count": 57,
   "metadata": {
    "collapsed": true
   },
   "outputs": [],
   "source": [
    "def add_moving_window_of_time_steps(df, win = 3):\n",
    "\n",
    "    sigccm = df[\"sigccm\"].copy()\n",
    "    \n",
    "    # Calculate the length of the list elements\n",
    "    # so we'll know how big the padding has to be\n",
    "    listlen = len(df[\"sigccm\"][0][0])\n",
    "    padding = list(np.repeat(0, listlen))\n",
    "    \n",
    "    if win < 2:\n",
    "        return sigccm\n",
    "    \n",
    "    # # First merge requires slightly different syntax\n",
    "    # # in call to combine method\n",
    "    # s = df[\"sigccm\"].apply(lambda x: x[0]).shift(-1).fillna(0)\n",
    "    # sigccm = sigccm.combine(s, lambda x1, x2: x1 + [x2])\n",
    "    # \n",
    "    # if win < 3:\n",
    "    #     return sigccm\n",
    "    \n",
    "    # Subsequent merges\n",
    "    for i in range(1, win):\n",
    "        \n",
    "        s = df[\"sigccm\"].apply(\n",
    "            lambda x: x[0]).shift(-i).fillna(0)\n",
    "            # lambda x: x[0]).shift(-i)\n",
    "            \n",
    "        sigccm = sigccm.combine(s, lambda x1, x2: x1 + [x2])\n",
    "        \n",
    "    return sigccm"
   ]
  },
  {
   "cell_type": "code",
   "execution_count": 264,
   "metadata": {
    "collapsed": true
   },
   "outputs": [],
   "source": [
    "ar_rolling_window = add_moving_window_of_time_steps(\n",
    "    df_signals_ccm, win = 10)"
   ]
  },
  {
   "cell_type": "code",
   "execution_count": 265,
   "metadata": {
    "collapsed": true
   },
   "outputs": [],
   "source": [
    "df_rolling_window = df_signals_ccm.copy()\n",
    "df_rolling_window[\"sigccm\"] = ar_rolling_window"
   ]
  },
  {
   "cell_type": "code",
   "execution_count": 97,
   "metadata": {},
   "outputs": [],
   "source": [
    "ar_rolling_window_normalized = add_moving_window_of_time_steps(\n",
    "    df_signals_ccm_normalized, win = 10)"
   ]
  },
  {
   "cell_type": "code",
   "execution_count": 98,
   "metadata": {
    "collapsed": true
   },
   "outputs": [],
   "source": [
    "df_rolling_window_normalized = df_signals_ccm_normalized.copy()\n",
    "df_rolling_window_normalized[\"sigccm\"] = ar_rolling_window_normalized"
   ]
  },
  {
   "cell_type": "markdown",
   "metadata": {},
   "source": [
    "## Save Pickled Files"
   ]
  },
  {
   "cell_type": "code",
   "execution_count": null,
   "metadata": {
    "collapsed": true
   },
   "outputs": [],
   "source": [
    "path = PickledDir + \"df_signals_in_cols.pkl\"\n",
    "fd = open(path, \"wb\")\n",
    "pkl.dump(df_signals_in_cols, fd)\n",
    "fd.close()"
   ]
  },
  {
   "cell_type": "code",
   "execution_count": 21,
   "metadata": {},
   "outputs": [],
   "source": [
    "path = PickledDir + \"df_signals_normalized.pkl\"\n",
    "fd = open(path, \"wb\")\n",
    "pkl.dump(df_signals_normalized, fd)\n",
    "fd.close()"
   ]
  },
  {
   "cell_type": "code",
   "execution_count": 155,
   "metadata": {
    "collapsed": true
   },
   "outputs": [],
   "source": [
    "path = PickledDir + \"df_signals_ccm.pkl\"\n",
    "fd = open(path, \"wb\")\n",
    "pkl.dump(df_signals_ccm, fd)\n",
    "fd.close()"
   ]
  },
  {
   "cell_type": "code",
   "execution_count": 95,
   "metadata": {
    "collapsed": true
   },
   "outputs": [],
   "source": [
    "path = PickledDir + \"df_signals_ccm_normalized.pkl\"\n",
    "fd = open(path, \"wb\")\n",
    "pkl.dump(df_signals_ccm_normalized, fd)\n",
    "fd.close()"
   ]
  },
  {
   "cell_type": "code",
   "execution_count": 268,
   "metadata": {
    "collapsed": true
   },
   "outputs": [],
   "source": [
    "path = PickledDir + \"df_rolling_window.pkl\"\n",
    "fd = open(path, \"wb\")\n",
    "pkl.dump(df_rolling_window, fd)\n",
    "fd.close()"
   ]
  },
  {
   "cell_type": "code",
   "execution_count": 99,
   "metadata": {
    "collapsed": true
   },
   "outputs": [],
   "source": [
    "path = PickledDir + \"df_rolling_window_normalized.pkl\"\n",
    "fd = open(path, \"wb\")\n",
    "pkl.dump(df_rolling_window_normalized, fd)\n",
    "fd.close()"
   ]
  },
  {
   "cell_type": "markdown",
   "metadata": {},
   "source": [
    "## Load Pickled Files"
   ]
  },
  {
   "cell_type": "code",
   "execution_count": 2,
   "metadata": {},
   "outputs": [],
   "source": [
    "PickledDir = \"Pickled Files/\""
   ]
  },
  {
   "cell_type": "code",
   "execution_count": 8,
   "metadata": {
    "collapsed": true
   },
   "outputs": [],
   "source": [
    "path = PickledDir + \"df_jamming.pkl\"\n",
    "fd = open(path, \"rb\")\n",
    "df_jamming = pkl.load(fd)\n",
    "fd.close()"
   ]
  },
  {
   "cell_type": "code",
   "execution_count": 14,
   "metadata": {},
   "outputs": [],
   "source": [
    "path = PickledDir + \"df_signals_in_cols.pkl\"\n",
    "fd = open(path, \"rb\")\n",
    "df_signals_in_cols = pkl.load(fd)\n",
    "fd.close()"
   ]
  },
  {
   "cell_type": "code",
   "execution_count": 22,
   "metadata": {},
   "outputs": [],
   "source": [
    "path = PickledDir + \"df_signals_normalized.pkl\"\n",
    "fd = open(path, \"rb\")\n",
    "df_signals_normalized = pkl.load(fd)\n",
    "fd.close()"
   ]
  },
  {
   "cell_type": "code",
   "execution_count": null,
   "metadata": {
    "collapsed": true
   },
   "outputs": [],
   "source": [
    "path = PickledDir + \"df_signals_ccm_normalized.pkl\"\n",
    "fd = open(path, \"rb\")\n",
    "df_signals_ccm_normalized = pkl.load(fd)\n",
    "fd.close()"
   ]
  },
  {
   "cell_type": "code",
   "execution_count": 6,
   "metadata": {},
   "outputs": [],
   "source": [
    "path = PickledDir + \"df_rolling_window.pkl\"\n",
    "fd = open(path, \"rb\")\n",
    "df_rolling_window = pkl.load(fd)\n",
    "fd.close()"
   ]
  },
  {
   "cell_type": "code",
   "execution_count": null,
   "metadata": {
    "collapsed": true
   },
   "outputs": [],
   "source": [
    "path = PickledDir + \"df_rolling_window_normalized.pkl\"\n",
    "fd = open(path, \"rb\")\n",
    "df_rolling_window_normalized = pkl.load(fd)\n",
    "fd.close()"
   ]
  },
  {
   "cell_type": "markdown",
   "metadata": {},
   "source": [
    "# LSTM"
   ]
  },
  {
   "cell_type": "code",
   "execution_count": 100,
   "metadata": {},
   "outputs": [
    {
     "data": {
      "text/plain": [
       "(86243, 91)"
      ]
     },
     "execution_count": 100,
     "metadata": {},
     "output_type": "execute_result"
    }
   ],
   "source": [
    "df_rolling_window_normalized.shape"
   ]
  },
  {
   "cell_type": "code",
   "execution_count": 101,
   "metadata": {
    "collapsed": true
   },
   "outputs": [],
   "source": [
    "# Head and tail do not have fully defined rolling windows\n",
    "# Truncate them. \n",
    "df_input = df_rolling_window_normalized.loc[10:]\n",
    "df_input = df_input[:len(df_input) - 10]"
   ]
  },
  {
   "cell_type": "code",
   "execution_count": 102,
   "metadata": {},
   "outputs": [
    {
     "data": {
      "text/plain": [
       "(86243, 86223)"
      ]
     },
     "execution_count": 102,
     "metadata": {},
     "output_type": "execute_result"
    }
   ],
   "source": [
    "len(df_rolling_window_normalized), len(df_input)"
   ]
  },
  {
   "cell_type": "code",
   "execution_count": 103,
   "metadata": {
    "collapsed": true
   },
   "outputs": [],
   "source": [
    "df_input.index = range(len(df_input))"
   ]
  },
  {
   "cell_type": "code",
   "execution_count": 104,
   "metadata": {},
   "outputs": [
    {
     "data": {
      "text/plain": [
       "(10, 97)"
      ]
     },
     "execution_count": 104,
     "metadata": {},
     "output_type": "execute_result"
    }
   ],
   "source": [
    "window = df_input.sigccm[0]\n",
    "max_sequence_length = len(window)\n",
    "list_element = window[0]\n",
    "input_length = len(list_element)\n",
    "max_sequence_length, input_length"
   ]
  },
  {
   "cell_type": "code",
   "execution_count": 105,
   "metadata": {},
   "outputs": [
    {
     "data": {
      "text/plain": [
       "0    [[0.5734231, 0.91304344, 0.49569106, 0.4002849...\n",
       "1    [[0.5734231, 0.91304344, 0.49569106, 0.4002849...\n",
       "2    [[0.5734231, 0.9157054, 0.49569106, 0.4002849,...\n",
       "3    [[0.5734231, 0.9157054, 0.49569106, 0.4002849,...\n",
       "4    [[0.5734231, 0.9157054, 0.49569106, 0.4002849,...\n",
       "Name: sigccm, dtype: object"
      ]
     },
     "execution_count": 105,
     "metadata": {},
     "output_type": "execute_result"
    }
   ],
   "source": [
    "# X_train_init[:5]\n",
    "df_input.sigccm[:5]"
   ]
  },
  {
   "cell_type": "code",
   "execution_count": 106,
   "metadata": {},
   "outputs": [
    {
     "data": {
      "text/plain": [
       "[0.5734231,\n",
       " 0.91304344,\n",
       " 0.49569106,\n",
       " 0.4002849,\n",
       " 0.44770515,\n",
       " 0.40578687,\n",
       " 0.5,\n",
       " 0.58276284,\n",
       " 0.574122,\n",
       " 0.6109134]"
      ]
     },
     "execution_count": 106,
     "metadata": {},
     "output_type": "execute_result"
    }
   ],
   "source": [
    "df_input.sigccm[0][0][:10]"
   ]
  },
  {
   "cell_type": "code",
   "execution_count": 107,
   "metadata": {
    "collapsed": true
   },
   "outputs": [],
   "source": [
    "# df_input.sigccm.tolist()\n",
    "X_train_init = np.asarray(df_input.sigccm)"
   ]
  },
  {
   "cell_type": "code",
   "execution_count": 108,
   "metadata": {},
   "outputs": [
    {
     "data": {
      "text/plain": [
       "(10, 10, 10, (70000, 10, 97))"
      ]
     },
     "execution_count": 108,
     "metadata": {},
     "output_type": "execute_result"
    }
   ],
   "source": [
    "(len(X_train_init[1]),\n",
    "df_input.sigccm.apply(len).min(), \n",
    "df_input.sigccm.apply(len).max(),\n",
    "X_train.shape)"
   ]
  },
  {
   "cell_type": "code",
   "execution_count": 109,
   "metadata": {
    "collapsed": true
   },
   "outputs": [],
   "source": [
    "# X_train = np.hstack(X_train_init).reshape(\n",
    "X_train = np.column_stack(X_train_init).reshape(\n",
    "                    len(df_input),\n",
    "                    max_sequence_length,\n",
    "                    input_length)"
   ]
  },
  {
   "cell_type": "code",
   "execution_count": 110,
   "metadata": {},
   "outputs": [
    {
     "data": {
      "text/plain": [
       "(86223, 10, 97)"
      ]
     },
     "execution_count": 110,
     "metadata": {},
     "output_type": "execute_result"
    }
   ],
   "source": [
    "X_train.shape"
   ]
  },
  {
   "cell_type": "code",
   "execution_count": 111,
   "metadata": {
    "collapsed": true
   },
   "outputs": [],
   "source": [
    "output_cols = ['Attack']"
   ]
  },
  {
   "cell_type": "code",
   "execution_count": 112,
   "metadata": {
    "collapsed": true
   },
   "outputs": [],
   "source": [
    "df_input['Attack'] = df_input[output_cols].apply(\n",
    "                                     tuple, axis=1).apply(list)"
   ]
  },
  {
   "cell_type": "code",
   "execution_count": 113,
   "metadata": {
    "collapsed": true
   },
   "outputs": [],
   "source": [
    "y_train = np.hstack(np.asarray(df_input.Attack)).reshape(\n",
    "                    len(df_input),len(output_cols))"
   ]
  },
  {
   "cell_type": "code",
   "execution_count": 114,
   "metadata": {},
   "outputs": [
    {
     "data": {
      "text/plain": [
       "86223"
      ]
     },
     "execution_count": 114,
     "metadata": {},
     "output_type": "execute_result"
    }
   ],
   "source": [
    "len(y_train)"
   ]
  },
  {
   "cell_type": "code",
   "execution_count": 115,
   "metadata": {
    "collapsed": true
   },
   "outputs": [],
   "source": [
    "X_test = X_train[70000:]\n",
    "y_test = y_train[70000:]"
   ]
  },
  {
   "cell_type": "code",
   "execution_count": 116,
   "metadata": {
    "collapsed": true
   },
   "outputs": [],
   "source": [
    "X_train = X_train[:70000]\n",
    "y_train = y_train[:70000]"
   ]
  },
  {
   "cell_type": "code",
   "execution_count": 117,
   "metadata": {},
   "outputs": [
    {
     "data": {
      "text/plain": [
       "(10, 97)"
      ]
     },
     "execution_count": 117,
     "metadata": {},
     "output_type": "execute_result"
    }
   ],
   "source": [
    "# Get input dimensions\n",
    "\n",
    "# Input length is the length for one input sequence \n",
    "# (i.e. the number of rows in a sample)\n",
    "# Input dim is the number of dimensions in one input vector \n",
    "# (i.e. number of input columns)\n",
    "input_length = X_train.shape[1]\n",
    "input_dim = X_train.shape[2]\n",
    "\n",
    "input_length, input_dim"
   ]
  },
  {
   "cell_type": "code",
   "execution_count": 118,
   "metadata": {},
   "outputs": [
    {
     "data": {
      "text/plain": [
       "1"
      ]
     },
     "execution_count": 118,
     "metadata": {},
     "output_type": "execute_result"
    }
   ],
   "source": [
    "# Output dimension is just the shape of a single output vector\n",
    "# In this case it's just 1, but it could be more\n",
    "output_dim = len(y_train[0])\n",
    "output_dim"
   ]
  },
  {
   "cell_type": "markdown",
   "metadata": {},
   "source": [
    "## Build the LSTM Model"
   ]
  },
  {
   "cell_type": "code",
   "execution_count": 144,
   "metadata": {
    "collapsed": true
   },
   "outputs": [],
   "source": [
    "# Build the model\n",
    "model = Sequential()\n",
    "\n",
    "# I arbitrarily picked the output dimensions as 20\n",
    "model.add(LSTM(20, input_shape=(input_length, input_dim)))\n",
    "\n",
    "# The max output value is > 1 so relu is used as final activation.\n",
    "model.add(Dense(output_dim, activation='relu'))\n",
    "\n",
    "model.compile(loss='mean_squared_error',\n",
    "              optimizer='sgd',\n",
    "              metrics=['accuracy'])\n",
    "# model.compile(loss='mae', optimizer='adam') "
   ]
  },
  {
   "cell_type": "code",
   "execution_count": null,
   "metadata": {},
   "outputs": [
    {
     "name": "stdout",
     "output_type": "stream",
     "text": [
      "Train on 70000 samples, validate on 16223 samples\n",
      "Epoch 1/100\n",
      " - 66s - loss: 0.0384 - acc: 0.9543 - val_loss: 0.1637 - val_acc: 0.8123\n",
      "Epoch 2/100\n",
      " - 66s - loss: 0.0384 - acc: 0.9543 - val_loss: 0.1641 - val_acc: 0.8123\n",
      "Epoch 3/100\n",
      " - 66s - loss: 0.0383 - acc: 0.9543 - val_loss: 0.1640 - val_acc: 0.8123\n",
      "Epoch 4/100\n",
      " - 66s - loss: 0.0383 - acc: 0.9543 - val_loss: 0.1637 - val_acc: 0.8123\n",
      "Epoch 5/100\n",
      " - 66s - loss: 0.0383 - acc: 0.9543 - val_loss: 0.1633 - val_acc: 0.8123\n",
      "Epoch 6/100\n",
      " - 66s - loss: 0.0383 - acc: 0.9543 - val_loss: 0.1628 - val_acc: 0.8123\n",
      "Epoch 7/100\n",
      " - 66s - loss: 0.0383 - acc: 0.9543 - val_loss: 0.1624 - val_acc: 0.8123\n",
      "Epoch 8/100\n",
      " - 66s - loss: 0.0383 - acc: 0.9543 - val_loss: 0.1619 - val_acc: 0.8123\n",
      "Epoch 9/100\n",
      " - 66s - loss: 0.0383 - acc: 0.9543 - val_loss: 0.1615 - val_acc: 0.8123\n",
      "Epoch 10/100\n",
      " - 66s - loss: 0.0383 - acc: 0.9543 - val_loss: 0.1612 - val_acc: 0.8123\n",
      "Epoch 11/100\n",
      " - 66s - loss: 0.0383 - acc: 0.9543 - val_loss: 0.1609 - val_acc: 0.8123\n",
      "Epoch 12/100\n",
      " - 66s - loss: 0.0383 - acc: 0.9543 - val_loss: 0.1606 - val_acc: 0.8123\n",
      "Epoch 13/100\n",
      " - 66s - loss: 0.0383 - acc: 0.9543 - val_loss: 0.1604 - val_acc: 0.8123\n",
      "Epoch 14/100\n",
      " - 66s - loss: 0.0383 - acc: 0.9543 - val_loss: 0.1602 - val_acc: 0.8123\n",
      "Epoch 15/100\n",
      " - 66s - loss: 0.0383 - acc: 0.9543 - val_loss: 0.1601 - val_acc: 0.8123\n",
      "Epoch 16/100\n",
      " - 66s - loss: 0.0383 - acc: 0.9543 - val_loss: 0.1600 - val_acc: 0.8123\n",
      "Epoch 17/100\n",
      " - 66s - loss: 0.0383 - acc: 0.9543 - val_loss: 0.1599 - val_acc: 0.8123\n",
      "Epoch 18/100\n",
      " - 66s - loss: 0.0383 - acc: 0.9543 - val_loss: 0.1598 - val_acc: 0.8123\n",
      "Epoch 19/100\n",
      " - 66s - loss: 0.0383 - acc: 0.9543 - val_loss: 0.1598 - val_acc: 0.8123\n",
      "Epoch 20/100\n",
      " - 66s - loss: 0.0383 - acc: 0.9543 - val_loss: 0.1597 - val_acc: 0.8123\n",
      "Epoch 21/100\n",
      " - 66s - loss: 0.0383 - acc: 0.9543 - val_loss: 0.1597 - val_acc: 0.8123\n",
      "Epoch 22/100\n",
      " - 66s - loss: 0.0383 - acc: 0.9543 - val_loss: 0.1597 - val_acc: 0.8123\n",
      "Epoch 23/100\n",
      " - 66s - loss: 0.0383 - acc: 0.9543 - val_loss: 0.1597 - val_acc: 0.8123\n",
      "Epoch 24/100\n",
      " - 66s - loss: 0.0383 - acc: 0.9543 - val_loss: 0.1596 - val_acc: 0.8123\n",
      "Epoch 25/100\n",
      " - 66s - loss: 0.0383 - acc: 0.9543 - val_loss: 0.1596 - val_acc: 0.8123\n",
      "Epoch 26/100\n",
      " - 67s - loss: 0.0383 - acc: 0.9543 - val_loss: 0.1596 - val_acc: 0.8123\n",
      "Epoch 27/100\n",
      " - 66s - loss: 0.0383 - acc: 0.9543 - val_loss: 0.1596 - val_acc: 0.8123\n",
      "Epoch 28/100\n",
      " - 65s - loss: 0.0383 - acc: 0.9543 - val_loss: 0.1596 - val_acc: 0.8123\n",
      "Epoch 29/100\n",
      " - 66s - loss: 0.0383 - acc: 0.9543 - val_loss: 0.1596 - val_acc: 0.8123\n",
      "Epoch 30/100\n",
      " - 66s - loss: 0.0383 - acc: 0.9543 - val_loss: 0.1596 - val_acc: 0.8123\n",
      "Epoch 31/100\n",
      " - 66s - loss: 0.0383 - acc: 0.9543 - val_loss: 0.1596 - val_acc: 0.8123\n",
      "Epoch 32/100\n",
      " - 66s - loss: 0.0383 - acc: 0.9543 - val_loss: 0.1596 - val_acc: 0.8123\n",
      "Epoch 33/100\n"
     ]
    }
   ],
   "source": [
    "early_stop_callback = EarlyStopping(monitor = \"val_loss\",\n",
    "                                    verbose = 2, mode = 'min', \n",
    "                                    patience = 3)\n",
    "\n",
    "# history = model.fit(X_train, y_train, epochs=100, batch_size = 10, \n",
    "#                     validation_data = (X_test, y_test), verbose = 2, \n",
    "#                     callbacks=[early_stop_callback],\n",
    "#                     shuffle = False)\n",
    "\n",
    "history = model.fit(X_train, y_train, epochs=100, batch_size = 10, \n",
    "                    validation_data = (X_test, y_test), verbose = 2, \n",
    "                    shuffle = False)"
   ]
  },
  {
   "cell_type": "code",
   "execution_count": 146,
   "metadata": {},
   "outputs": [
    {
     "name": "stdout",
     "output_type": "stream",
     "text": [
      "Done.\n"
     ]
    }
   ],
   "source": [
    "print(\"Done.\")"
   ]
  },
  {
   "cell_type": "markdown",
   "metadata": {},
   "source": [
    "Plot the training and test loss."
   ]
  },
  {
   "cell_type": "code",
   "execution_count": 147,
   "metadata": {},
   "outputs": [
    {
     "data": {
      "image/png": "[encoded data removed]",
      "text/plain": [
       "<Figure size 432x288 with 1 Axes>"
      ]
     },
     "metadata": {},
     "output_type": "display_data"
    }
   ],
   "source": [
    "# plot history\n",
    "plt.plot(history.history['loss'], label='train')\n",
    "plt.plot(history.history['val_loss'], label='test')\n",
    "plt.legend()\n",
    "plt.show()"
   ]
  },
  {
   "cell_type": "markdown",
   "metadata": {},
   "source": [
    "## Make Predictions and Plot ROC-AUC Metric"
   ]
  },
  {
   "cell_type": "code",
   "execution_count": 148,
   "metadata": {
    "collapsed": true
   },
   "outputs": [],
   "source": [
    "# make predictions\n",
    "trainPredict = model.predict(X_train)\n",
    "testPredict = model.predict(X_test)"
   ]
  },
  {
   "cell_type": "code",
   "execution_count": 149,
   "metadata": {
    "collapsed": true
   },
   "outputs": [],
   "source": [
    "fpr, tpr, thresholds = roc_curve(y_test, testPredict)"
   ]
  },
  {
   "cell_type": "code",
   "execution_count": 150,
   "metadata": {},
   "outputs": [],
   "source": [
    "auc = auc(fpr, tpr)"
   ]
  },
  {
   "cell_type": "code",
   "execution_count": 151,
   "metadata": {},
   "outputs": [
    {
     "data": {
      "image/png": "[encoded data removed]",
      "text/plain": [
       "<Figure size 432x288 with 1 Axes>"
      ]
     },
     "metadata": {},
     "output_type": "display_data"
    }
   ],
   "source": [
    "plt.figure(1)\n",
    "plt.plot([0, 1], [0, 1], 'k--')\n",
    "plt.plot(fpr, tpr, \n",
    "         label='area = {:.3f}'.format(auc))\n",
    "plt.xlabel('False positive rate')\n",
    "plt.ylabel('True positive rate')\n",
    "plt.title('ROC curve')\n",
    "plt.legend(loc='best')\n",
    "plt.show()"
   ]
  },
  {
   "cell_type": "code",
   "execution_count": 152,
   "metadata": {},
   "outputs": [
    {
     "data": {
      "image/png": "[encoded data removed]",
      "text/plain": [
       "<Figure size 432x288 with 1 Axes>"
      ]
     },
     "metadata": {},
     "output_type": "display_data"
    }
   ],
   "source": [
    "# Zoom in view of the upper left corner.\n",
    "plt.figure(2)\n",
    "plt.xlim(0, 0.2)\n",
    "plt.ylim(0.8, 1)\n",
    "plt.plot([0, 1], [0, 1], 'k--')\n",
    "plt.plot(fpr, tpr, \n",
    "         label='area = {:.3f}'.format(auc))\n",
    "plt.xlabel('False positive rate')\n",
    "plt.ylabel('True positive rate')\n",
    "plt.title('ROC curve (zoomed in at top left)')\n",
    "plt.legend(loc='best')\n",
    "plt.show() "
   ]
  },
  {
   "cell_type": "code",
   "execution_count": null,
   "metadata": {
    "collapsed": true
   },
   "outputs": [],
   "source": []
  }
 ],
 "metadata": {
  "kernelspec": {
   "display_name": "Python [conda env:py36]",
   "language": "python",
   "name": "conda-env-py36-py"
  },
  "language_info": {
   "codemirror_mode": {
    "name": "ipython",
    "version": 3
   },
   "file_extension": ".py",
   "mimetype": "text/x-python",
   "name": "python",
   "nbconvert_exporter": "python",
   "pygments_lexer": "ipython3",
   "version": "3.6.4"
  },
  "toc": {
   "nav_menu": {},
   "number_sections": true,
   "sideBar": true,
   "skip_h1_title": false,
   "toc_cell": true,
   "toc_position": {},
   "toc_section_display": "block",
   "toc_window_display": false
  }
 },
 "nbformat": 4,
 "nbformat_minor": 2
}
